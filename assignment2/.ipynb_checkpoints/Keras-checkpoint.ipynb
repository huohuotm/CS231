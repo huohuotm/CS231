{
 "cells": [
  {
   "cell_type": "markdown",
   "metadata": {},
   "source": [
    "\n",
    "* 数据预处理：只有归一化 X/255。\n",
    "* 基准模型在测试集上的准确率是80.63%；使用GridSearch后，准确率最高在80.98%；用RandomSearch在之前的模型基础上对dropout微调，准确率提升到81.26%；\n",
    "组合3个模型，**测试集的准确率最终达到83.59%**。在GridSearch和RandomSearch中，出现模型的val_loss小于之前最小值，则保存该模型。训练时，以val_loss大小判断模型好坏。"
   ]
  },
  {
   "cell_type": "markdown",
   "metadata": {},
   "source": [
    "## Import Libraries"
   ]
  },
  {
   "cell_type": "code",
   "execution_count": 1,
   "metadata": {},
   "outputs": [
    {
     "name": "stderr",
     "output_type": "stream",
     "text": [
      "Using TensorFlow backend.\n"
     ]
    }
   ],
   "source": [
    "from keras.models import Sequential\n",
    "from keras.layers import Input,Dense,Activation,Flatten\n",
    "from keras.layers import Conv2D,MaxPooling2D,Lambda,Dropout\n",
    "from keras.layers.normalization import BatchNormalization\n",
    "from keras.utils.np_utils import to_categorical\n",
    "from keras.callbacks import EarlyStopping,CSVLogger,ModelCheckpoint\n",
    "from keras.models import Model\n",
    "from keras.models import load_model"
   ]
  },
  {
   "cell_type": "code",
   "execution_count": 2,
   "metadata": {
    "collapsed": true
   },
   "outputs": [],
   "source": [
    "import tensorflow as tf\n",
    "import numpy as np\n",
    "import math\n",
    "import timeit\n",
    "import matplotlib.pyplot as plt\n",
    "# %matplotlib inline"
   ]
  },
  {
   "cell_type": "markdown",
   "metadata": {},
   "source": [
    "## Load Dataset\n",
    "### Load CIFIAR10 from cs231n\n"
   ]
  },
  {
   "cell_type": "code",
   "execution_count": 3,
   "metadata": {
    "scrolled": true
   },
   "outputs": [
    {
     "name": "stdout",
     "output_type": "stream",
     "text": [
      "Train data shape:  (50000, 32, 32, 3)\n",
      "Train labels shape:  (50000, 10)\n",
      "Test data shape:  (10000, 32, 32, 3)\n",
      "Test labels shape:  (10000, 10)\n"
     ]
    }
   ],
   "source": [
    "from cs231n.data_utils import load_CIFAR10\n",
    "\n",
    "def get_CIFAR10_data(num_training=49000, num_validation=1000, num_test=10000):\n",
    "    \"\"\"\n",
    "    Load the CIFAR-10 dataset from disk and perform preprocessing to prepare\n",
    "    it for the two-layer neural net classifier. These are the same steps as\n",
    "    we used for the SVM, but condensed to a single function.  \n",
    "    \"\"\"\n",
    "    # Load the raw CIFAR-10 data\n",
    "    cifar10_dir = 'cs231n/datasets/cifar-10-batches-py'\n",
    "    X_train, y_train, X_test, y_test = load_CIFAR10(cifar10_dir)\n",
    "    y_train = to_categorical(y_train, num_classes=10)\n",
    "    y_test = to_categorical(y_test, num_classes=10)\n",
    "    return X_train, y_train, X_test, y_test\n",
    "\n",
    "\n",
    "# Invoke the above function to get our data.\n",
    "X_train, y_train, X_test, y_test = get_CIFAR10_data()\n",
    "print('Train data shape: ', X_train.shape)\n",
    "print('Train labels shape: ', y_train.shape)\n",
    "print('Test data shape: ', X_test.shape)\n",
    "print('Test labels shape: ', y_test.shape)\n"
   ]
  },
  {
   "cell_type": "markdown",
   "metadata": {},
   "source": [
    "### Load CIFAR10 from `keras.datasets`"
   ]
  },
  {
   "cell_type": "code",
   "execution_count": null,
   "metadata": {
    "collapsed": true
   },
   "outputs": [],
   "source": [
    "from keras.datasets import cifar10\n",
    "\n",
    "(X_train, y_train), (X_test, y_test) = cifar10.load_data()\n",
    "y_test = to_categorical(y_test, num_classes=10)\n",
    "print('Train data shape: ', X_train.shape)\n",
    "print('Train labels shape: ', y_train.shape)\n",
    "print('Test data shape: ', X_test.shape)\n",
    "print('Test labels shape: ', y_test.shape)\n"
   ]
  },
  {
   "cell_type": "markdown",
   "metadata": {},
   "source": [
    "## 基准模型"
   ]
  },
  {
   "cell_type": "code",
   "execution_count": 15,
   "metadata": {},
   "outputs": [],
   "source": [
    "model = Sequential()\n",
    "\n",
    "#model.add(BatchNormalization(mode=1, input_shape=(32,32,3)))\n",
    "model.add(Lambda(lambda x: x/255.0,input_shape = X_train.shape[1:]))\n",
    "model.add(Conv2D(32,(3,3),padding='same',))\n",
    "model.add(BatchNormalization(axis=3))\n",
    "model.add(Activation('relu'))\n",
    "\n",
    "model.add(Conv2D(64,(3,3),padding='same',))\n",
    "model.add(BatchNormalization(axis=3))\n",
    "model.add(Activation('relu'))\n",
    "model.add(Dropout(0.1))\n",
    " \n",
    "model.add(Conv2D(64,(3,3),padding='same',))\n",
    "model.add(BatchNormalization(axis=3))\n",
    "model.add(Activation('relu'))\n",
    "model.add(MaxPooling2D((2,2)))\n",
    "model.add(Dropout(0.2))\n",
    "          \n",
    "model.add(Conv2D(128,(3,3),padding='valid',))\n",
    "model.add(BatchNormalization(axis=3))\n",
    "model.add(Activation('relu'))\n",
    "model.add(MaxPooling2D((2,2)))\n",
    "model.add(Dropout(0.2))\n",
    "          \n",
    "model.add(Conv2D(128,(3,3),padding='valid',))\n",
    "model.add(BatchNormalization(axis=3))\n",
    "model.add(Activation('relu'))          \n",
    "\n",
    "model.add(Flatten())\n",
    "model.add(Dense(100))\n",
    "model.add(BatchNormalization(axis=1))\n",
    "model.add(Activation('relu'))\n",
    "\n",
    "model.add(Dense(50))\n",
    "model.add(BatchNormalization(axis=1))\n",
    "model.add(Activation('relu'))\n",
    "\n",
    "model.add(Dense(10, activation='softmax'))\n",
    "\n",
    "          \n",
    "model.compile(loss='categorical_crossentropy', optimizer='adam',metrics=['accuracy'])\n"
   ]
  },
  {
   "cell_type": "code",
   "execution_count": 16,
   "metadata": {
    "scrolled": true
   },
   "outputs": [
    {
     "name": "stdout",
     "output_type": "stream",
     "text": [
      "Train on 47500 samples, validate on 2500 samples\n",
      "Epoch 1/15\n",
      "47500/47500 [==============================] - 1347s - loss: 1.2528 - acc: 0.5502 - val_loss: 2.0362 - val_acc: 0.3540\n",
      "Epoch 2/15\n",
      "47500/47500 [==============================] - 1377s - loss: 0.8209 - acc: 0.7111 - val_loss: 0.8771 - val_acc: 0.7008\n",
      "Epoch 3/15\n",
      "47500/47500 [==============================] - 1293s - loss: 0.6748 - acc: 0.7620 - val_loss: 0.8934 - val_acc: 0.7180\n",
      "Epoch 4/15\n",
      "47500/47500 [==============================] - 2720s - loss: 0.5820 - acc: 0.7962 - val_loss: 1.1331 - val_acc: 0.6164\n",
      "Epoch 5/15\n",
      "47500/47500 [==============================] - 1331s - loss: 0.5010 - acc: 0.8246 - val_loss: 0.7392 - val_acc: 0.7664\n",
      "Epoch 6/15\n",
      "47500/47500 [==============================] - 1245s - loss: 0.4342 - acc: 0.8471 - val_loss: 0.5709 - val_acc: 0.8108\n",
      "Epoch 7/15\n",
      "47500/47500 [==============================] - 1188s - loss: 0.3824 - acc: 0.8653 - val_loss: 0.6888 - val_acc: 0.7680\n",
      "Epoch 8/15\n",
      "47500/47500 [==============================] - 1172s - loss: 0.3407 - acc: 0.8800 - val_loss: 0.5506 - val_acc: 0.8240\n",
      "Epoch 9/15\n",
      "47500/47500 [==============================] - 1167s - loss: 0.2912 - acc: 0.8975 - val_loss: 0.5728 - val_acc: 0.8236\n",
      "Epoch 10/15\n",
      "47500/47500 [==============================] - 1151s - loss: 0.2551 - acc: 0.9105 - val_loss: 0.8607 - val_acc: 0.7484\n",
      "Epoch 11/15\n",
      "47500/47500 [==============================] - 1150s - loss: 0.2285 - acc: 0.9201 - val_loss: 0.6902 - val_acc: 0.7928\n",
      "Epoch 12/15\n",
      "47500/47500 [==============================] - 1159s - loss: 0.2029 - acc: 0.9277 - val_loss: 0.6391 - val_acc: 0.8176\n",
      "Epoch 13/15\n",
      "47500/47500 [==============================] - 1151s - loss: 0.1835 - acc: 0.9337 - val_loss: 0.6683 - val_acc: 0.8088\n"
     ]
    }
   ],
   "source": [
    "filepath=\"{epoch:03d}:{val_loss:.3f}.h5\"\n",
    "callbacks = [EarlyStopping(monitor='val_loss',patience=4),ModelCheckpoint(filepath, monitor='val_loss',save_best_only=True)]     \n",
    "history = model.fit(x=X_train, y=y_train, batch_size=64, epochs=15, validation_split=0.05\n",
    "                    ,callbacks=callbacks)"
   ]
  },
  {
   "cell_type": "markdown",
   "metadata": {},
   "source": [
    "**Test Accuracy**  \n",
    "最低val_loss是0.551，对应模型的准确率是80.33%。"
   ]
  },
  {
   "cell_type": "code",
   "execution_count": 23,
   "metadata": {},
   "outputs": [
    {
     "name": "stdout",
     "output_type": "stream",
     "text": [
      "10000/10000 [==============================] - 98s    \n",
      "Test Accuracy: 80.33%\n"
     ]
    }
   ],
   "source": [
    "model = load_model('007_0.551.h5')\n",
    "print(\"Test Accuracy: %.2f%%\" % (model.evaluate(X_test, y_test)[1]*100))"
   ]
  },
  {
   "cell_type": "markdown",
   "metadata": {},
   "source": [
    "## Tuning Hyperparameters by GridSearch\n",
    "Training on Google Cloud."
   ]
  },
  {
   "cell_type": "code",
   "execution_count": 13,
   "metadata": {},
   "outputs": [],
   "source": [
    "def model(ac='relu', opz = 'adam', pd='same',dp=0.1, MP=True, loss='categorical_crossentropy'):\n",
    "\timage_input = Input(shape = (32,32,3))\n",
    "\tx = Lambda(lambda x: x/255.0,input_shape = X_train.shape[1:])(image_input)\n",
    "\n",
    "\tx = Conv2D(32,(3,3),padding=pd)(x)\n",
    "\tx = BatchNormalization(axis=3)(x)\n",
    "\tx = Activation(ac)(x)\n",
    "\n",
    "\tx = Conv2D(64,(3,3),padding=pd)(x)\n",
    "\tx = BatchNormalization(axis=3)(x)\n",
    "\tx = Activation(ac)(x)\n",
    "\tx = Dropout(dp)(x)\n",
    "\n",
    "\tx = Conv2D(64,(3,3),padding=pd)(x)\n",
    "\tx = BatchNormalization(axis=3)(x)\n",
    "\tx = Activation(ac)(x)\n",
    "\tif MP:\n",
    "\t\tx = MaxPooling2D((2,2))(x)\n",
    "\tx = Dropout(dp)(x)\n",
    "\n",
    "\tx = Conv2D(128,(3,3),padding=pd)(x)\n",
    "\tx = BatchNormalization(axis=3)(x)\n",
    "\tx = Activation(ac)(x)\n",
    "\tif MP:\n",
    "\t\tx = MaxPooling2D((2,2))(x)\n",
    "\tx = Dropout(dp)(x)\n",
    "\n",
    "\tx = Conv2D(128,(3,3),padding=pd)(x)\n",
    "\tx = BatchNormalization(axis=3)(x)\n",
    "\tx = Activation(ac)(x)\n",
    "\tx = Dropout(dp)(x)\n",
    "\n",
    "\tx = Flatten()(x)\n",
    "\tx = Dense(100)(x)\n",
    "\tx = BatchNormalization(axis=1)(x)\n",
    "\tx = Activation(ac)(x)\n",
    "\n",
    "\tx = Dense(50)(x)\n",
    "\tx = BatchNormalization(axis=1)(x)\n",
    "\tx = Activation(ac)(x)\n",
    "\n",
    "\tout = Dense(10, activation='softmax')(x)\n",
    "\n",
    "\tmodel = Model(inputs=image_input, outputs=out)\n",
    "\tmodel.compile(optimizer=opz, loss =loss, metrics=['accuracy'])\n",
    "\n",
    "\treturn model"
   ]
  },
  {
   "cell_type": "code",
   "execution_count": null,
   "metadata": {
    "scrolled": true
   },
   "outputs": [
    {
     "name": "stdout",
     "output_type": "stream",
     "text": [
      "****************************************************************************************************\n",
      "('relu', 'adam', 'same', 0.1)\n",
      "\n",
      "Train on 47500 samples, validate on 2500 samples\n",
      "Epoch 1/30\n",
      "10496/47500 [=====>........................] - ETA: 40s - loss: 1.6972 - acc: 0.3982"
     ]
    }
   ],
   "source": [
    "from keras.callbacks import EarlyStopping,CSVLogger,ModelCheckpoint\n",
    "import itertools\n",
    "\n",
    "\n",
    "optimizers = ['adam','rmsprop']\n",
    "activations = ['relu','LeakyReLU']\n",
    "dropouts = [0.1,0.2,0.3]\n",
    "padding = ['same','valid']\n",
    "\n",
    "parameters = itertools.product(activations,optimizers,padding,dropouts) \n",
    "    \n",
    "filepath=\"{epoch:03d}:{val_loss:.3f}.h5\"\n",
    "callbacks = [EarlyStopping(monitor='val_loss',patience=6),ModelCheckpoint(filepath, monitor='val_loss',save_best_only=True)]     \n",
    "\n",
    "for ac, opz, pd1, dp in parameters:\n",
    "    model_1= model(ac, opz, pd1, dp, True, 'categorical_crossentropy')\n",
    "    print('*'*100)\n",
    "    print(str((ac, opz, pd1, dp))+'\\n')\n",
    "    model_1.fit(X_train, y_train,epochs=30,batch_size=128,validation_split=0.05 ,callbacks=callbacks,shuffle=\"batch\")\n",
    "    scores = model_1.evaluate(X_test, y_test, verbose=0)\n",
    "    print(str((ac, opz, pd1, dp))+'*'*20 +'\\n')\n",
    "    print(\"%s: %.2f%%\" % (model_1.metrics_names[1], scores[1]*100))\n",
    "\n",
    "\n"
   ]
  },
  {
   "cell_type": "markdown",
   "metadata": {},
   "source": [
    "**Test Accuracy**  \n",
    "最低val_loss是0.5303，对应模型的准确率是80.98%。"
   ]
  },
  {
   "cell_type": "code",
   "execution_count": 7,
   "metadata": {},
   "outputs": [
    {
     "name": "stdout",
     "output_type": "stream",
     "text": [
      "10000/10000 [==============================] - 107s   \n",
      "Test Accuracy: 80.98%\n"
     ]
    }
   ],
   "source": [
    "model = load_model('./Keras_cifar10/gridsearch_0.530.h5')\n",
    "print(\"Test Accuracy: %.2f%%\" % (model.evaluate(X_test, y_test)[1]*100))"
   ]
  },
  {
   "cell_type": "markdown",
   "metadata": {},
   "source": [
    "## Tuning Dropout using Random Search\n",
    "在GridSearch得到模型的基础上，用Random Search微调dropout系数。"
   ]
  },
  {
   "cell_type": "code",
   "execution_count": null,
   "metadata": {
    "collapsed": true
   },
   "outputs": [],
   "source": [
    "from keras.callbacks import EarlyStopping,CSVLogger,ModelCheckpoint\n",
    "import itertools\n",
    "import random\n",
    "random.seed(2)\n",
    "\n",
    "#optimizers = ['adam','rmsprop']\n",
    "#activations = ['relu','LeakyReLU']\n",
    "dropouts = 0.2+0.2*np.random.random_sample(15) \n",
    "#dropouts = [0.1,0.2,0.3]\n",
    "#padding = ['same','valid']\n",
    "\n",
    "#parameters = itertools.product(activations,optimizers,padding,dropouts) \n",
    "#parameters = itertools.product(activations,dropouts) \n",
    "\n",
    "filepath=\"2017_10_06_am:{epoch:03d}:{val_loss:.3f}.h5\"\n",
    "callbacks = [EarlyStopping(monitor='val_loss',patience=6),ModelCheckpoint(filepath, monitor='val_loss',save_best_only=True)]     \n",
    "\n",
    "for dp in list(dropouts):\n",
    "    model_1= model('relu','adam','same', dp, True, 'categorical_crossentropy')\n",
    "    print('*'*100)\n",
    "    print(str(('relu','adam','same', dp))+'*'*10+'\\n')\n",
    "    model_1.fit(X_train, y_train,epochs=30,batch_size=128,validation_split=0.05 ,callbacks=callbacks,shuffle=\"batch\")\n",
    "    scores = model_1.evaluate(X_test, y_test, verbose=0)\n",
    "    print(\"%s: %.2f%%\" % (model_1.metrics_names[1], scores[1]*100))"
   ]
  },
  {
   "cell_type": "markdown",
   "metadata": {},
   "source": [
    "**Test Accuracy**   \n",
    "最低val_loss是0.529，对应模型的准确率是81.26%。"
   ]
  },
  {
   "cell_type": "code",
   "execution_count": 8,
   "metadata": {
    "scrolled": true
   },
   "outputs": [
    {
     "name": "stdout",
     "output_type": "stream",
     "text": [
      "10000/10000 [==============================] - 103s   \n",
      "Test Accuracy: 81.26%\n"
     ]
    }
   ],
   "source": [
    "model = load_model('./Keras_cifar10/dropout_0.529.h5')\n",
    "print(\"Test Accuracy: %.2f%%\" % (model.evaluate(X_test, y_test)[1]*100))"
   ]
  },
  {
   "cell_type": "markdown",
   "metadata": {},
   "source": [
    "## 组合模型\n",
    "用3个模型预测，选预测结果的众数作为最终结果。模型最终准确率为83.59%，结果提升2.3%。"
   ]
  },
  {
   "cell_type": "code",
   "execution_count": 12,
   "metadata": {},
   "outputs": [
    {
     "name": "stdout",
     "output_type": "stream",
     "text": [
      "Test Accuracy: 83.59%\n"
     ]
    }
   ],
   "source": [
    "from scipy import stats\n",
    "\n",
    "u = []\n",
    "model_paths = ['./Keras_cifar10/dropout_0.529.h5','./Keras_cifar10/dropout_0.537.h5','./Keras_cifar10/dropout_0.540.h5']\n",
    "for p in model_paths: \n",
    "    model = load_model(p)\n",
    "    y_pred = model.predict(X_test)\n",
    "    y_pred = np.argmax(y_pred, axis=1)\n",
    "    u.append(y_pred)\n",
    "y_pred,_ =  stats.mode(np.array(u))\n",
    "\n",
    "test_acc = np.sum(np.equal(y_pred,np.argmax(y_test, axis=1)))/10000.0\n",
    "print(\"Test Accuracy: %.2f%%\" % (test_acc*100))"
   ]
  }
 ],
 "metadata": {
  "kernelspec": {
   "display_name": "Python 3",
   "language": "python",
   "name": "python3"
  },
  "language_info": {
   "codemirror_mode": {
    "name": "ipython",
    "version": 3
   },
   "file_extension": ".py",
   "mimetype": "text/x-python",
   "name": "python",
   "nbconvert_exporter": "python",
   "pygments_lexer": "ipython3",
   "version": "3.5.2"
  },
  "toc": {
   "nav_menu": {},
   "number_sections": true,
   "sideBar": true,
   "skip_h1_title": false,
   "toc_cell": false,
   "toc_position": {},
   "toc_section_display": "block",
   "toc_window_display": false
  },
  "widgets": {
   "state": {},
   "version": "1.1.2"
  }
 },
 "nbformat": 4,
 "nbformat_minor": 2
}
